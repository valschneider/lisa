{
 "cells": [
  {
   "cell_type": "markdown",
   "metadata": {
    "deletable": true,
    "editable": true
   },
   "source": [
    "# Geekbench benchmark on Android\n",
    "\n",
    "Geekbench4 is an app offering several benchmarks to run on android smartphones. The one used in this notebook is the '**CPU**' benchmark, which runs several workloads that follow the lines of what is commonly run by smartphones (AES, JPEG codec, FFT, and so on). The benchmark runs all the tests in '**Single-Core**' mode as well as in '**Multi-Core**' in order to compare the single-thread and multi-thread performances of the device.\n",
    "\n",
    "**Do note that the benchmark will attempt to upload its results, which includes some hardware information**"
   ]
  },
  {
   "cell_type": "code",
   "execution_count": 1,
   "metadata": {
    "collapsed": false,
    "deletable": true,
    "editable": true
   },
   "outputs": [
    {
     "name": "stderr",
     "output_type": "stream",
     "text": [
      "2017-03-22 10:46:08,023 INFO    : root         : Using LISA logging configuration:\n",
      "2017-03-22 10:46:08,129 INFO    : root         :   /home/vagrant/lisa/logging.conf\n"
     ]
    }
   ],
   "source": [
    "from conf import LisaLogging\n",
    "LisaLogging.setup()"
   ]
  },
  {
   "cell_type": "code",
   "execution_count": 2,
   "metadata": {
    "collapsed": false,
    "deletable": true,
    "editable": true
   },
   "outputs": [
    {
     "name": "stdout",
     "output_type": "stream",
     "text": [
      "Populating the interactive namespace from numpy and matplotlib\n"
     ]
    }
   ],
   "source": [
    "%pylab inline\n",
    "\n",
    "import json\n",
    "import os\n",
    "\n",
    "# Support to access the remote target\n",
    "import devlib\n",
    "from env import TestEnv\n",
    "\n",
    "# Import support for Android devices\n",
    "from android import Screen, Workload\n",
    "\n",
    "# Support for trace events analysis\n",
    "from trace import Trace\n",
    "\n",
    "# Suport for FTrace events parsing and visualization\n",
    "import trappy\n",
    "\n",
    "import pandas as pd"
   ]
  },
  {
   "cell_type": "markdown",
   "metadata": {
    "deletable": true,
    "editable": true
   },
   "source": [
    "## Support Functions"
   ]
  },
  {
   "cell_type": "markdown",
   "metadata": {
    "deletable": true,
    "editable": true
   },
   "source": [
    "This function helps us run our experiments:"
   ]
  },
  {
   "cell_type": "code",
   "execution_count": 3,
   "metadata": {
    "collapsed": true,
    "deletable": true,
    "editable": true
   },
   "outputs": [],
   "source": [
    "def experiment():\n",
    "    \n",
    "    # Configure governor\n",
    "    target.cpufreq.set_all_governors('sched')\n",
    "    \n",
    "    # Get workload\n",
    "    wload = Workload.getInstance(te, 'Geekbench')\n",
    "    \n",
    "    # Run Geekbench workload\n",
    "    wload.run(te.res_dir, test_name='CPU', collect='ftrace')\n",
    "        \n",
    "    # Dump platform descriptor\n",
    "    te.platform_dump(te.res_dir)"
   ]
  },
  {
   "cell_type": "markdown",
   "metadata": {
    "deletable": true,
    "editable": true
   },
   "source": [
    "## Test environment setup\n",
    "For more details on this please check out **examples/utils/testenv_example.ipynb**."
   ]
  },
  {
   "cell_type": "markdown",
   "metadata": {
    "deletable": true,
    "editable": true
   },
   "source": [
    "**devlib** requires the ANDROID_HOME environment variable configured to point to your local installation of the Android SDK. If you have not this variable configured in the shell used to start the notebook server, you need to run a cell to define where your Android SDK is installed or specify the ANDROID_HOME in your target configuration."
   ]
  },
  {
   "cell_type": "markdown",
   "metadata": {
    "deletable": true,
    "editable": true
   },
   "source": [
    "In case more than one Android device are conencted to the host, you must specify the ID of the device you want to target in **my_target_conf**. Run **adb devices** on your host to get the ID."
   ]
  },
  {
   "cell_type": "code",
   "execution_count": 4,
   "metadata": {
    "collapsed": false,
    "deletable": true,
    "editable": true
   },
   "outputs": [],
   "source": [
    "# Setup target configuration\n",
    "my_conf = {\n",
    "\n",
    "    # Target platform and board\n",
    "    \"platform\"     : 'android',\n",
    "    \"board\"        : 'pixel',\n",
    "    \n",
    "    # Device\n",
    "    \"device\"       : \"HT67M0300128\",\n",
    "    \n",
    "    # Android home\n",
    "    \"ANDROID_HOME\" : \"/home/vagrant/lisa/tools/android-sdk-linux/\",\n",
    "\n",
    "    # Folder where all the results will be collected\n",
    "    \"results_dir\" : \"Geekbench_example\",\n",
    "\n",
    "    # Define devlib modules to load\n",
    "    \"modules\"     : [\n",
    "        'cpufreq'       # enable CPUFreq support\n",
    "    ],\n",
    "\n",
    "    # FTrace events to collect for all the tests configuration which have\n",
    "    # the \"ftrace\" flag enabled\n",
    "    \"ftrace\"  : {\n",
    "         \"events\" : [\n",
    "            \"sched_switch\",\n",
    "            \"sched_wakeup\",\n",
    "            \"sched_wakeup_new\",\n",
    "            \"sched_overutilized\",\n",
    "            \"sched_load_avg_cpu\",\n",
    "            \"sched_load_avg_task\",\n",
    "            \"cpu_capacity\",\n",
    "            \"cpu_frequency\",\n",
    "         ],\n",
    "         \"buffsize\" : 100 * 1024,\n",
    "    },\n",
    "\n",
    "    # Tools required by the experiments\n",
    "    \"tools\"   : [ 'trace-cmd', 'taskset'],\n",
    "}"
   ]
  },
  {
   "cell_type": "code",
   "execution_count": null,
   "metadata": {
    "collapsed": false,
    "deletable": true,
    "editable": true,
    "scrolled": false
   },
   "outputs": [],
   "source": [
    "# Initialize a test environment using:\n",
    "te = TestEnv(my_conf, wipe=False)\n",
    "target = te.target"
   ]
  },
  {
   "cell_type": "markdown",
   "metadata": {
    "deletable": true,
    "editable": true
   },
   "source": [
    "## Workloads execution\n",
    "\n",
    "This is done using the **experiment** helper function defined above which is configured to run a **Geekbench - CPU** experiment."
   ]
  },
  {
   "cell_type": "code",
   "execution_count": null,
   "metadata": {
    "collapsed": false,
    "deletable": true,
    "editable": true
   },
   "outputs": [],
   "source": [
    "# Initialize Workloads for this test environment\n",
    "results = experiment()"
   ]
  },
  {
   "cell_type": "markdown",
   "metadata": {
    "deletable": true,
    "editable": true
   },
   "source": [
    "## Results collection"
   ]
  },
  {
   "cell_type": "markdown",
   "metadata": {
    "collapsed": true,
    "deletable": true,
    "editable": true
   },
   "source": [
    "Geekbench4 uses a baseline score of 4000, which is the benchmark score of an Intel Core i7-6600U. Higher scores are better, with double the score indicating double the performance. You can have a look at the results for several android phones here https://browser.primatelabs.com/android-benchmarks"
   ]
  },
  {
   "cell_type": "code",
   "execution_count": 9,
   "metadata": {
    "collapsed": true
   },
   "outputs": [],
   "source": [
    "class TE():\n",
    "    res_dir=\"/home/vagrant/lisa/ipynb/scratchpad/geekbench4/sched\"\n",
    "    \n",
    "te = TE()"
   ]
  },
  {
   "cell_type": "code",
   "execution_count": 14,
   "metadata": {
    "collapsed": false,
    "deletable": true,
    "editable": true,
    "scrolled": false
   },
   "outputs": [],
   "source": [
    "def get_geekbench(filepath):\n",
    "    res = {}\n",
    "    with open(filepath) as fd:\n",
    "        res = json.loads(fd.read()) \n",
    "    return res\n",
    "\n",
    "def get_global_results(geekbench):\n",
    "    data = []\n",
    "    idx = []\n",
    "    for section in geekbench[\"sections\"]:\n",
    "        data.append(section[\"score\"])\n",
    "        idx.append(section[\"name\"])\n",
    "    df = pd.DataFrame(data=data, index=idx, columns=[\"Global score\"])\n",
    "    return df.T\n",
    "\n",
    "def get_workloads_results(geekbench):    \n",
    "    data = []\n",
    "    idx = []\n",
    "    benchmark_fields = [\"score\", \"threads\", \"runtime_mean\", \"rate_string\"]\n",
    "\n",
    "    for section in geekbench[\"sections\"]:\n",
    "        for workload in section[\"workloads\"]:\n",
    "            wl_data = []\n",
    "            for field in benchmark_fields:\n",
    "                wl_data.append(workload[field])            \n",
    "            data.append(tuple(wl_data))\n",
    "            idx.append( (section[\"name\"], workload[\"name\"]) )  \n",
    "\n",
    "    sections = [section[\"name\"] for section in geekbench[\"sections\"]]\n",
    "    workloads = set([workload[\"name\"] for section in geekbench[\"sections\"] for workload in section[\"workloads\"]]) \n",
    "    idx = pd.MultiIndex.from_tuples(idx)\n",
    "        \n",
    "    df = pd.DataFrame(data, index=idx, columns=benchmark_fields).unstack(0)\n",
    "    df.columns = df.columns.swaplevel(0,1)\n",
    "    df.sortlevel(0, axis = 1, inplace=True)\n",
    "    return df"
   ]
  },
  {
   "cell_type": "code",
   "execution_count": 19,
   "metadata": {
    "collapsed": false
   },
   "outputs": [
    {
     "name": "stdout",
     "output_type": "stream",
     "text": [
      "---- Global benchmark results ----\n",
      "Uploaded results available here : https://browser.geekbench.com/v4/cpu/2147368\n"
     ]
    },
    {
     "data": {
      "text/html": [
       "<div>\n",
       "<table border=\"1\" class=\"dataframe\">\n",
       "  <thead>\n",
       "    <tr style=\"text-align: right;\">\n",
       "      <th></th>\n",
       "      <th>Single-Core</th>\n",
       "      <th>Multi-Core</th>\n",
       "    </tr>\n",
       "  </thead>\n",
       "  <tbody>\n",
       "    <tr>\n",
       "      <th>Global score</th>\n",
       "      <td>1702</td>\n",
       "      <td>3977</td>\n",
       "    </tr>\n",
       "  </tbody>\n",
       "</table>\n",
       "</div>"
      ],
      "text/plain": [
       "              Single-Core  Multi-Core\n",
       "Global score         1702        3977"
      ]
     },
     "metadata": {},
     "output_type": "display_data"
    },
    {
     "name": "stdout",
     "output_type": "stream",
     "text": [
      "---- Detailled benchmark results ----\n"
     ]
    },
    {
     "data": {
      "text/html": [
       "<div>\n",
       "<table border=\"1\" class=\"dataframe\">\n",
       "  <thead>\n",
       "    <tr>\n",
       "      <th></th>\n",
       "      <th colspan=\"4\" halign=\"left\">Multi-Core</th>\n",
       "      <th colspan=\"4\" halign=\"left\">Single-Core</th>\n",
       "    </tr>\n",
       "    <tr>\n",
       "      <th></th>\n",
       "      <th>score</th>\n",
       "      <th>threads</th>\n",
       "      <th>runtime_mean</th>\n",
       "      <th>rate_string</th>\n",
       "      <th>score</th>\n",
       "      <th>threads</th>\n",
       "      <th>runtime_mean</th>\n",
       "      <th>rate_string</th>\n",
       "    </tr>\n",
       "  </thead>\n",
       "  <tbody>\n",
       "    <tr>\n",
       "      <th>AES</th>\n",
       "      <td>2035</td>\n",
       "      <td>4</td>\n",
       "      <td>0.332845</td>\n",
       "      <td>1.53 GB/sec</td>\n",
       "      <td>777</td>\n",
       "      <td>1</td>\n",
       "      <td>0.222496</td>\n",
       "      <td>599.4 MB/sec</td>\n",
       "    </tr>\n",
       "    <tr>\n",
       "      <th>Camera</th>\n",
       "      <td>7115</td>\n",
       "      <td>4</td>\n",
       "      <td>0.217685</td>\n",
       "      <td>19.7 images/sec</td>\n",
       "      <td>2569</td>\n",
       "      <td>1</td>\n",
       "      <td>0.142803</td>\n",
       "      <td>7.12 images/sec</td>\n",
       "    </tr>\n",
       "    <tr>\n",
       "      <th>Canny</th>\n",
       "      <td>6722</td>\n",
       "      <td>4</td>\n",
       "      <td>0.223805</td>\n",
       "      <td>93.2 Mpixels/sec</td>\n",
       "      <td>2151</td>\n",
       "      <td>1</td>\n",
       "      <td>0.171469</td>\n",
       "      <td>29.8 Mpixels/sec</td>\n",
       "    </tr>\n",
       "    <tr>\n",
       "      <th>Dijkstra</th>\n",
       "      <td>4906</td>\n",
       "      <td>4</td>\n",
       "      <td>0.613225</td>\n",
       "      <td>3.32 MTE/sec</td>\n",
       "      <td>2095</td>\n",
       "      <td>1</td>\n",
       "      <td>0.374321</td>\n",
       "      <td>1.42 MTE/sec</td>\n",
       "    </tr>\n",
       "    <tr>\n",
       "      <th>Face Detection</th>\n",
       "      <td>5347</td>\n",
       "      <td>4</td>\n",
       "      <td>0.196573</td>\n",
       "      <td>1.56 Msubwindows/sec</td>\n",
       "      <td>2080</td>\n",
       "      <td>1</td>\n",
       "      <td>0.124652</td>\n",
       "      <td>607.7 Ksubwindows/sec</td>\n",
       "    </tr>\n",
       "    <tr>\n",
       "      <th>Gaussian Blur</th>\n",
       "      <td>5730</td>\n",
       "      <td>4</td>\n",
       "      <td>0.209446</td>\n",
       "      <td>100.4 Mpixels/sec</td>\n",
       "      <td>2312</td>\n",
       "      <td>1</td>\n",
       "      <td>0.126594</td>\n",
       "      <td>40.5 Mpixels/sec</td>\n",
       "    </tr>\n",
       "    <tr>\n",
       "      <th>HDR</th>\n",
       "      <td>7351</td>\n",
       "      <td>4</td>\n",
       "      <td>0.688534</td>\n",
       "      <td>26.7 Mpixels/sec</td>\n",
       "      <td>2808</td>\n",
       "      <td>1</td>\n",
       "      <td>0.430568</td>\n",
       "      <td>10.2 Mpixels/sec</td>\n",
       "    </tr>\n",
       "    <tr>\n",
       "      <th>HTML5 DOM</th>\n",
       "      <td>1419</td>\n",
       "      <td>4</td>\n",
       "      <td>1.783401</td>\n",
       "      <td>1.29 MElements/sec</td>\n",
       "      <td>292</td>\n",
       "      <td>1</td>\n",
       "      <td>2.011599</td>\n",
       "      <td>264.8 KElements/sec</td>\n",
       "    </tr>\n",
       "    <tr>\n",
       "      <th>HTML5 Parse</th>\n",
       "      <td>4109</td>\n",
       "      <td>4</td>\n",
       "      <td>0.274679</td>\n",
       "      <td>18.7 MB/sec</td>\n",
       "      <td>1578</td>\n",
       "      <td>1</td>\n",
       "      <td>0.170339</td>\n",
       "      <td>7.16 MB/sec</td>\n",
       "    </tr>\n",
       "    <tr>\n",
       "      <th>Histogram Equalization</th>\n",
       "      <td>4607</td>\n",
       "      <td>4</td>\n",
       "      <td>0.349193</td>\n",
       "      <td>144.0 Mpixels/sec</td>\n",
       "      <td>1477</td>\n",
       "      <td>1</td>\n",
       "      <td>0.249777</td>\n",
       "      <td>46.2 Mpixels/sec</td>\n",
       "    </tr>\n",
       "    <tr>\n",
       "      <th>JPEG</th>\n",
       "      <td>7193</td>\n",
       "      <td>4</td>\n",
       "      <td>0.366393</td>\n",
       "      <td>57.9 Mpixels/sec</td>\n",
       "      <td>2485</td>\n",
       "      <td>1</td>\n",
       "      <td>0.265030</td>\n",
       "      <td>20.0 Mpixels/sec</td>\n",
       "    </tr>\n",
       "    <tr>\n",
       "      <th>LLVM</th>\n",
       "      <td>4184</td>\n",
       "      <td>4</td>\n",
       "      <td>1.857255</td>\n",
       "      <td>287.7 functions/sec</td>\n",
       "      <td>1316</td>\n",
       "      <td>1</td>\n",
       "      <td>1.486280</td>\n",
       "      <td>90.5 functions/sec</td>\n",
       "    </tr>\n",
       "    <tr>\n",
       "      <th>LZMA</th>\n",
       "      <td>4287</td>\n",
       "      <td>4</td>\n",
       "      <td>0.536466</td>\n",
       "      <td>6.70 MB/sec</td>\n",
       "      <td>1450</td>\n",
       "      <td>1</td>\n",
       "      <td>0.414550</td>\n",
       "      <td>2.27 MB/sec</td>\n",
       "    </tr>\n",
       "    <tr>\n",
       "      <th>Lua</th>\n",
       "      <td>3473</td>\n",
       "      <td>4</td>\n",
       "      <td>0.369708</td>\n",
       "      <td>3.57 MB/sec</td>\n",
       "      <td>1245</td>\n",
       "      <td>1</td>\n",
       "      <td>0.248950</td>\n",
       "      <td>1.28 MB/sec</td>\n",
       "    </tr>\n",
       "    <tr>\n",
       "      <th>Memory Bandwidth</th>\n",
       "      <td>3368</td>\n",
       "      <td>2</td>\n",
       "      <td>0.139533</td>\n",
       "      <td>18.0 GB/sec</td>\n",
       "      <td>2371</td>\n",
       "      <td>1</td>\n",
       "      <td>0.099701</td>\n",
       "      <td>12.7 GB/sec</td>\n",
       "    </tr>\n",
       "    <tr>\n",
       "      <th>Memory Copy</th>\n",
       "      <td>3806</td>\n",
       "      <td>2</td>\n",
       "      <td>0.381772</td>\n",
       "      <td>10.5 GB/sec</td>\n",
       "      <td>2622</td>\n",
       "      <td>1</td>\n",
       "      <td>0.278124</td>\n",
       "      <td>7.27 GB/sec</td>\n",
       "    </tr>\n",
       "    <tr>\n",
       "      <th>Memory Latency</th>\n",
       "      <td>2835</td>\n",
       "      <td>2</td>\n",
       "      <td>0.307260</td>\n",
       "      <td>6.55 Moperations/sec</td>\n",
       "      <td>2828</td>\n",
       "      <td>1</td>\n",
       "      <td>0.308020</td>\n",
       "      <td>6.53 Moperations/sec</td>\n",
       "    </tr>\n",
       "    <tr>\n",
       "      <th>N-Body Physics</th>\n",
       "      <td>3689</td>\n",
       "      <td>4</td>\n",
       "      <td>0.414314</td>\n",
       "      <td>2.76 Mpairs/sec</td>\n",
       "      <td>1360</td>\n",
       "      <td>1</td>\n",
       "      <td>0.273312</td>\n",
       "      <td>1.02 Mpairs/sec</td>\n",
       "    </tr>\n",
       "    <tr>\n",
       "      <th>PDF Rendering</th>\n",
       "      <td>5501</td>\n",
       "      <td>4</td>\n",
       "      <td>0.728765</td>\n",
       "      <td>146.2 Mpixels/sec</td>\n",
       "      <td>2129</td>\n",
       "      <td>1</td>\n",
       "      <td>0.453098</td>\n",
       "      <td>56.6 Mpixels/sec</td>\n",
       "    </tr>\n",
       "    <tr>\n",
       "      <th>Ray Tracing</th>\n",
       "      <td>4825</td>\n",
       "      <td>4</td>\n",
       "      <td>0.535315</td>\n",
       "      <td>704.7 Kpixels/sec</td>\n",
       "      <td>1854</td>\n",
       "      <td>1</td>\n",
       "      <td>0.334705</td>\n",
       "      <td>270.7 Kpixels/sec</td>\n",
       "    </tr>\n",
       "    <tr>\n",
       "      <th>Rigid Body Physics</th>\n",
       "      <td>4820</td>\n",
       "      <td>4</td>\n",
       "      <td>0.461824</td>\n",
       "      <td>14111.7 FPS</td>\n",
       "      <td>2139</td>\n",
       "      <td>1</td>\n",
       "      <td>0.240893</td>\n",
       "      <td>6262.8 FPS</td>\n",
       "    </tr>\n",
       "    <tr>\n",
       "      <th>SFFT</th>\n",
       "      <td>3129</td>\n",
       "      <td>4</td>\n",
       "      <td>0.258642</td>\n",
       "      <td>7.80 Gflops</td>\n",
       "      <td>1088</td>\n",
       "      <td>1</td>\n",
       "      <td>0.174187</td>\n",
       "      <td>2.71 Gflops</td>\n",
       "    </tr>\n",
       "    <tr>\n",
       "      <th>SGEMM</th>\n",
       "      <td>1614</td>\n",
       "      <td>4</td>\n",
       "      <td>1.127081</td>\n",
       "      <td>34.1 Gflops</td>\n",
       "      <td>632</td>\n",
       "      <td>1</td>\n",
       "      <td>0.729783</td>\n",
       "      <td>13.4 Gflops</td>\n",
       "    </tr>\n",
       "    <tr>\n",
       "      <th>SQLite</th>\n",
       "      <td>3302</td>\n",
       "      <td>4</td>\n",
       "      <td>0.970443</td>\n",
       "      <td>91.5 Krows/sec</td>\n",
       "      <td>1180</td>\n",
       "      <td>1</td>\n",
       "      <td>0.620218</td>\n",
       "      <td>32.7 Krows/sec</td>\n",
       "    </tr>\n",
       "    <tr>\n",
       "      <th>Speech Recognition</th>\n",
       "      <td>3545</td>\n",
       "      <td>4</td>\n",
       "      <td>1.689541</td>\n",
       "      <td>30.3 Words/sec</td>\n",
       "      <td>1232</td>\n",
       "      <td>1</td>\n",
       "      <td>1.157719</td>\n",
       "      <td>10.5 Words/sec</td>\n",
       "    </tr>\n",
       "  </tbody>\n",
       "</table>\n",
       "</div>"
      ],
      "text/plain": [
       "                       Multi-Core                                             \\\n",
       "                            score threads runtime_mean           rate_string   \n",
       "AES                          2035       4     0.332845           1.53 GB/sec   \n",
       "Camera                       7115       4     0.217685       19.7 images/sec   \n",
       "Canny                        6722       4     0.223805      93.2 Mpixels/sec   \n",
       "Dijkstra                     4906       4     0.613225          3.32 MTE/sec   \n",
       "Face Detection               5347       4     0.196573  1.56 Msubwindows/sec   \n",
       "Gaussian Blur                5730       4     0.209446     100.4 Mpixels/sec   \n",
       "HDR                          7351       4     0.688534      26.7 Mpixels/sec   \n",
       "HTML5 DOM                    1419       4     1.783401    1.29 MElements/sec   \n",
       "HTML5 Parse                  4109       4     0.274679           18.7 MB/sec   \n",
       "Histogram Equalization       4607       4     0.349193     144.0 Mpixels/sec   \n",
       "JPEG                         7193       4     0.366393      57.9 Mpixels/sec   \n",
       "LLVM                         4184       4     1.857255   287.7 functions/sec   \n",
       "LZMA                         4287       4     0.536466           6.70 MB/sec   \n",
       "Lua                          3473       4     0.369708           3.57 MB/sec   \n",
       "Memory Bandwidth             3368       2     0.139533           18.0 GB/sec   \n",
       "Memory Copy                  3806       2     0.381772           10.5 GB/sec   \n",
       "Memory Latency               2835       2     0.307260  6.55 Moperations/sec   \n",
       "N-Body Physics               3689       4     0.414314       2.76 Mpairs/sec   \n",
       "PDF Rendering                5501       4     0.728765     146.2 Mpixels/sec   \n",
       "Ray Tracing                  4825       4     0.535315     704.7 Kpixels/sec   \n",
       "Rigid Body Physics           4820       4     0.461824           14111.7 FPS   \n",
       "SFFT                         3129       4     0.258642           7.80 Gflops   \n",
       "SGEMM                        1614       4     1.127081           34.1 Gflops   \n",
       "SQLite                       3302       4     0.970443        91.5 Krows/sec   \n",
       "Speech Recognition           3545       4     1.689541        30.3 Words/sec   \n",
       "\n",
       "                       Single-Core                                              \n",
       "                             score threads runtime_mean            rate_string  \n",
       "AES                            777       1     0.222496           599.4 MB/sec  \n",
       "Camera                        2569       1     0.142803        7.12 images/sec  \n",
       "Canny                         2151       1     0.171469       29.8 Mpixels/sec  \n",
       "Dijkstra                      2095       1     0.374321           1.42 MTE/sec  \n",
       "Face Detection                2080       1     0.124652  607.7 Ksubwindows/sec  \n",
       "Gaussian Blur                 2312       1     0.126594       40.5 Mpixels/sec  \n",
       "HDR                           2808       1     0.430568       10.2 Mpixels/sec  \n",
       "HTML5 DOM                      292       1     2.011599    264.8 KElements/sec  \n",
       "HTML5 Parse                   1578       1     0.170339            7.16 MB/sec  \n",
       "Histogram Equalization        1477       1     0.249777       46.2 Mpixels/sec  \n",
       "JPEG                          2485       1     0.265030       20.0 Mpixels/sec  \n",
       "LLVM                          1316       1     1.486280     90.5 functions/sec  \n",
       "LZMA                          1450       1     0.414550            2.27 MB/sec  \n",
       "Lua                           1245       1     0.248950            1.28 MB/sec  \n",
       "Memory Bandwidth              2371       1     0.099701            12.7 GB/sec  \n",
       "Memory Copy                   2622       1     0.278124            7.27 GB/sec  \n",
       "Memory Latency                2828       1     0.308020   6.53 Moperations/sec  \n",
       "N-Body Physics                1360       1     0.273312        1.02 Mpairs/sec  \n",
       "PDF Rendering                 2129       1     0.453098       56.6 Mpixels/sec  \n",
       "Ray Tracing                   1854       1     0.334705      270.7 Kpixels/sec  \n",
       "Rigid Body Physics            2139       1     0.240893             6262.8 FPS  \n",
       "SFFT                          1088       1     0.174187            2.71 Gflops  \n",
       "SGEMM                          632       1     0.729783            13.4 Gflops  \n",
       "SQLite                        1180       1     0.620218         32.7 Krows/sec  \n",
       "Speech Recognition            1232       1     1.157719         10.5 Words/sec  "
      ]
     },
     "metadata": {},
     "output_type": "display_data"
    }
   ],
   "source": [
    "for f in os.listdir(te.res_dir):\n",
    "    if f.endswith(\".gb4\"):\n",
    "        geekbench = get_geekbench(te.res_dir + \"/\" + f)\n",
    "        gdf = get_global_results(geekbench)\n",
    "        wdf = get_workloads_results(geekbench)\n",
    "\n",
    "        print \"---- Global benchmark results ----\"\n",
    "        if geekbench[\"browser\"][\"url\"] is not None:\n",
    "            print \"Uploaded results available here : \" + geekbench[\"browser\"][\"url\"]\n",
    "        display(gdf)\n",
    "        print \"---- Detailled benchmark results ----\"\n",
    "        display(wdf)"
   ]
  },
  {
   "cell_type": "code",
   "execution_count": null,
   "metadata": {
    "collapsed": true
   },
   "outputs": [],
   "source": []
  }
 ],
 "metadata": {
  "kernelspec": {
   "display_name": "Python 2",
   "language": "python",
   "name": "python2"
  },
  "language_info": {
   "codemirror_mode": {
    "name": "ipython",
    "version": 2
   },
   "file_extension": ".py",
   "mimetype": "text/x-python",
   "name": "python",
   "nbconvert_exporter": "python",
   "pygments_lexer": "ipython2",
   "version": "2.7.6"
  },
  "toc": {
   "toc_cell": false,
   "toc_number_sections": true,
   "toc_threshold": 6,
   "toc_window_display": false
  }
 },
 "nbformat": 4,
 "nbformat_minor": 0
}
