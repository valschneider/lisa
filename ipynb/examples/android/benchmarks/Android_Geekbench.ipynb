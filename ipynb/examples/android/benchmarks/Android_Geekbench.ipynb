{
 "cells": [
  {
   "cell_type": "markdown",
   "metadata": {
    "deletable": true,
    "editable": true
   },
   "source": [
    "# Geekbench benchmark on Android\n",
    "\n",
    "Geekbench4 is an app offering several benchmarks to run on android smartphones. The one used in this notebook is the '**CPU**' benchmark, which runs several workloads that follow the lines of what is commonly run by smartphones (AES, JPEG codec, FFT, and so on). The benchmark runs all the tests in '**Single-Core**' mode as well as in '**Multi-Core**' in order to compare the single-thread and multi-thread performances of the device.\n",
    "\n",
    "**Do note that the benchmark will attempt to upload its results, which includes some hardware information**"
   ]
  },
  {
   "cell_type": "code",
   "execution_count": 1,
   "metadata": {
    "collapsed": false,
    "deletable": true,
    "editable": true
   },
   "outputs": [
    {
     "name": "stderr",
     "output_type": "stream",
     "text": [
      "2017-04-04 16:07:16,086 INFO    : root         : Using LISA logging configuration:\n",
      "2017-04-04 16:07:16,183 INFO    : root         :   /home/valsch01/Work/lisa/logging.conf\n"
     ]
    }
   ],
   "source": [
    "from conf import LisaLogging\n",
    "LisaLogging.setup()"
   ]
  },
  {
   "cell_type": "code",
   "execution_count": 2,
   "metadata": {
    "collapsed": false,
    "deletable": true,
    "editable": true
   },
   "outputs": [
    {
     "name": "stdout",
     "output_type": "stream",
     "text": [
      "Populating the interactive namespace from numpy and matplotlib\n"
     ]
    }
   ],
   "source": [
    "%pylab inline\n",
    "\n",
    "import json\n",
    "import os\n",
    "\n",
    "# Support to access the remote target\n",
    "import devlib\n",
    "from env import TestEnv\n",
    "\n",
    "# Import support for Android devices\n",
    "from android import Screen, Workload\n",
    "\n",
    "# Support for trace events analysis\n",
    "from trace import Trace\n",
    "\n",
    "# Suport for FTrace events parsing and visualization\n",
    "import trappy\n",
    "\n",
    "import pandas as pd"
   ]
  },
  {
   "cell_type": "markdown",
   "metadata": {
    "deletable": true,
    "editable": true
   },
   "source": [
    "## Support Functions"
   ]
  },
  {
   "cell_type": "markdown",
   "metadata": {
    "deletable": true,
    "editable": true
   },
   "source": [
    "This function helps us run our experiments:"
   ]
  },
  {
   "cell_type": "code",
   "execution_count": 3,
   "metadata": {
    "collapsed": true,
    "deletable": true,
    "editable": true
   },
   "outputs": [],
   "source": [
    "def experiment():\n",
    "    \n",
    "    # Configure governor\n",
    "    target.cpufreq.set_all_governors('sched')\n",
    "    \n",
    "    # Get workload\n",
    "    wload = Workload.getInstance(te, 'Geekbench')\n",
    "    \n",
    "    # Run Geekbench workload\n",
    "    wload.run(te.res_dir, test_name='CPU', collect='ftrace')\n",
    "        \n",
    "    # Dump platform descriptor\n",
    "    te.platform_dump(te.res_dir)"
   ]
  },
  {
   "cell_type": "markdown",
   "metadata": {
    "deletable": true,
    "editable": true
   },
   "source": [
    "## Test environment setup\n",
    "For more details on this please check out **examples/utils/testenv_example.ipynb**."
   ]
  },
  {
   "cell_type": "markdown",
   "metadata": {
    "deletable": true,
    "editable": true
   },
   "source": [
    "**devlib** requires the ANDROID_HOME environment variable configured to point to your local installation of the Android SDK. If you have not this variable configured in the shell used to start the notebook server, you need to run a cell to define where your Android SDK is installed or specify the ANDROID_HOME in your target configuration."
   ]
  },
  {
   "cell_type": "markdown",
   "metadata": {
    "deletable": true,
    "editable": true
   },
   "source": [
    "In case more than one Android device are conencted to the host, you must specify the ID of the device you want to target in **my_target_conf**. Run **adb devices** on your host to get the ID."
   ]
  },
  {
   "cell_type": "code",
   "execution_count": 4,
   "metadata": {
    "collapsed": false,
    "deletable": true,
    "editable": true
   },
   "outputs": [],
   "source": [
    "# Setup target configuration\n",
    "my_conf = {\n",
    "\n",
    "    # Target platform and board\n",
    "    \"platform\"     : 'android',\n",
    "    \"board\"        : 'pixel',\n",
    "    \n",
    "    # Device\n",
    "    \"device\"       : \"HT67M0300128\",\n",
    "    \n",
    "    # Android home\n",
    "    \"ANDROID_HOME\" : \"/home/vagrant/lisa/tools/android-sdk-linux/\",\n",
    "\n",
    "    # Folder where all the results will be collected\n",
    "    \"results_dir\" : \"Geekbench_example\",\n",
    "\n",
    "    # Define devlib modules to load\n",
    "    \"modules\"     : [\n",
    "        'cpufreq'       # enable CPUFreq support\n",
    "    ],\n",
    "\n",
    "    # FTrace events to collect for all the tests configuration which have\n",
    "    # the \"ftrace\" flag enabled\n",
    "    \"ftrace\"  : {\n",
    "         \"events\" : [\n",
    "            \"sched_switch\",\n",
    "            \"sched_wakeup\",\n",
    "            \"sched_wakeup_new\",\n",
    "            \"sched_overutilized\",\n",
    "            \"sched_load_avg_cpu\",\n",
    "            \"sched_load_avg_task\",\n",
    "            \"cpu_capacity\",\n",
    "            \"cpu_frequency\",\n",
    "         ],\n",
    "         \"buffsize\" : 100 * 1024,\n",
    "    },\n",
    "\n",
    "    # Tools required by the experiments\n",
    "    \"tools\"   : [ 'trace-cmd', 'taskset'],\n",
    "}"
   ]
  },
  {
   "cell_type": "code",
   "execution_count": null,
   "metadata": {
    "collapsed": false,
    "deletable": true,
    "editable": true,
    "scrolled": false
   },
   "outputs": [],
   "source": [
    "# Initialize a test environment using:\n",
    "te = TestEnv(my_conf, wipe=False)\n",
    "target = te.target"
   ]
  },
  {
   "cell_type": "markdown",
   "metadata": {
    "deletable": true,
    "editable": true
   },
   "source": [
    "## Workloads execution\n",
    "\n",
    "This is done using the **experiment** helper function defined above which is configured to run a **Geekbench - CPU** experiment."
   ]
  },
  {
   "cell_type": "code",
   "execution_count": null,
   "metadata": {
    "collapsed": false,
    "deletable": true,
    "editable": true
   },
   "outputs": [],
   "source": [
    "# Initialize Workloads for this test environment\n",
    "results = experiment()"
   ]
  },
  {
   "cell_type": "markdown",
   "metadata": {
    "deletable": true,
    "editable": true
   },
   "source": [
    "## Results collection"
   ]
  },
  {
   "cell_type": "markdown",
   "metadata": {
    "collapsed": true,
    "deletable": true,
    "editable": true
   },
   "source": [
    "Geekbench4 uses a baseline score of 4000, which is the benchmark score of an Intel Core i7-6600U. Higher scores are better, with double the score indicating double the performance. You can have a look at the results for several android phones here https://browser.primatelabs.com/android-benchmarks"
   ]
  },
  {
   "cell_type": "code",
   "execution_count": 37,
   "metadata": {
    "collapsed": true,
    "deletable": true,
    "editable": true
   },
   "outputs": [],
   "source": [
    "class TE():\n",
    "    res_dir=\"/home/valsch01/Work/lisa/results/hikey_geekbench_eas\"\n",
    "    \n",
    "te = TE()"
   ]
  },
  {
   "cell_type": "code",
   "execution_count": 112,
   "metadata": {
    "collapsed": false
   },
   "outputs": [
    {
     "name": "stdout",
     "output_type": "stream",
     "text": [
      "              Single-Core  Multi-Core\n",
      "Global score         1702        3977\n"
     ]
    }
   ],
   "source": [
    "compare_dirs = [ \"/home/valsch01/Work/lisa/ipynb/scratchpad/geekbench4/sched\" ]\n",
    "\n",
    "compare_geekbenches = []\n",
    "for d in compare_dirs:\n",
    "    files = [f for f in os.listdir(d) if f.endswith(\".gb4\")]\n",
    "    for f in files:\n",
    "        compare_geekbenches.append(get_geekbench(d + \"/\" + f))\n",
    "        \n",
    "print get_global_results(compare_geekbenches[0])"
   ]
  },
  {
   "cell_type": "code",
   "execution_count": 192,
   "metadata": {
    "collapsed": false
   },
   "outputs": [],
   "source": [
    "def get_geekbench_name(geekbench):\n",
    "    gov = \"\"\n",
    "    build = \"\"\n",
    "    for metric in geekbench[\"metrics\"]:\n",
    "        if metric[\"name\"] == \"Governor\":\n",
    "            gov = metric[\"value\"]\n",
    "        elif metric[\"name\"] == \"Build\":\n",
    "            build = metric[\"value\"]\n",
    "    \n",
    "    return \"Build: {} - Gov: {}\".format(build, gov)\n",
    "\n",
    "def get_geekbench_benchmarks(geekbench):\n",
    "    #return [section for section in geekbench[\"sections\"]]\n",
    "    res = []\n",
    "    for section in geekbench[\"sections\"]:\n",
    "        res.append(section)\n",
    "    return res\n",
    "    \n",
    "def get_geekbench_workloads(geekbench):\n",
    "    #return [benchmark[\"workloads\"] for benchmark in get_geekbench_benchmarks(geekbench)]\n",
    "    res = []\n",
    "    for benchmark in get_geekbench_benchmarks(geekbench):\n",
    "        for workload in benchmark[\"workloads\"]:\n",
    "            res.append(workload)\n",
    "    return res"
   ]
  },
  {
   "cell_type": "code",
   "execution_count": 218,
   "metadata": {
    "collapsed": false,
    "deletable": true,
    "editable": true,
    "scrolled": false
   },
   "outputs": [],
   "source": [
    "def get_geekbench(filepath):\n",
    "    res = {}\n",
    "    with open(filepath) as fd:\n",
    "        res = json.loads(fd.read()) \n",
    "    return res\n",
    "\n",
    "def get_global_results(geekbench):\n",
    "    data = []\n",
    "    idx = []\n",
    "    for section in geekbench[\"sections\"]:\n",
    "        data.append(section[\"score\"])\n",
    "        idx.append(section[\"name\"])\n",
    "    df = pd.DataFrame(data=data, index=idx, columns=[\"Global score\"])\n",
    "    return df.T\n",
    "\n",
    "def get_workloads_results(geekbench):    \n",
    "    data = []\n",
    "    idx = []\n",
    "    benchmark_fields = [\"score\", \"threads\", \"runtime_mean\", \"rate_string\"]\n",
    "\n",
    "    for section in geekbench[\"sections\"]:\n",
    "        for workload in section[\"workloads\"]:\n",
    "            wl_data = []\n",
    "            for field in benchmark_fields:\n",
    "                wl_data.append(workload[field])            \n",
    "            data.append(tuple(wl_data))\n",
    "            idx.append( (section[\"name\"], workload[\"name\"]) )  \n",
    "\n",
    "    sections = [section[\"name\"] for section in geekbench[\"sections\"]]\n",
    "    workloads = set([workload[\"name\"] for section in geekbench[\"sections\"] for workload in section[\"workloads\"]]) \n",
    "    idx = pd.MultiIndex.from_tuples(idx)\n",
    "        \n",
    "    df = pd.DataFrame(data, index=idx, columns=benchmark_fields).unstack(0)\n",
    "    df.columns = df.columns.swaplevel(0,1)\n",
    "    df.sortlevel(0, axis = 1, inplace=True)\n",
    "    return df\n",
    "\n",
    "# compare one geekbench with another (must be of same type)\n",
    "def compare_results(geekbench, comparison=None):   \n",
    "    comparison = compare_geekbenches[0]\n",
    "    bench_types = [benchmark[\"name\"] for benchmark in get_geekbench_benchmarks(geekbench)]\n",
    "    \n",
    "    print \"Comparing your {} with {}\".format(get_geekbench_name(geekbench), get_geekbench_name(comparison))\n",
    "    \n",
    "    for bench_type in bench_types:\n",
    "        # Could be Compute, Multi-Core or Single-Core\n",
    "        other_res = get_workloads_results(comparison)\n",
    "        other_res = other_res[bench_type]\n",
    "        my_res = get_workloads_results(geekbench)\n",
    "        my_res = my_res[bench_type]\n",
    "        \n",
    "        columns = [\"New score\", \"Previous score\", \"Delta\"]\n",
    "        data = []\n",
    "        for workload in workloads:\n",
    "            other_score = other_res[\"score\"][workload]\n",
    "            my_score = my_res[\"score\"][workload]\n",
    "            delta = (1.0 * my_score - other_score) / other_score\n",
    "            data.append((my_score, other_score, \"{:.2f}%\".format(delta * 100)))\n",
    "        df = pd.DataFrame(data, index=workloads, columns=columns)\n",
    "        print bench_type\n",
    "        display(df)\n",
    "            "
   ]
  },
  {
   "cell_type": "code",
   "execution_count": 43,
   "metadata": {
    "collapsed": false
   },
   "outputs": [],
   "source": [
    "compare = []\n",
    "\n",
    "for directory in to_compare:\n",
    "    for f in os.listdir(directory):\n",
    "        if f.endswith(\".gb4\"):\n",
    "            res = directory + \"/\" + f\n",
    "            \n",
    "    compare.append([res, get_workloads_results(get_geekbench(res))])"
   ]
  },
  {
   "cell_type": "code",
   "execution_count": 219,
   "metadata": {
    "collapsed": false,
    "deletable": true,
    "editable": true
   },
   "outputs": [
    {
     "name": "stdout",
     "output_type": "stream",
     "text": [
      "---- Global benchmark results ----\n",
      "---- Detailled benchmark results ----\n",
      "Comparing your Build: hikey960-userdebug O NYC 82 test-keys - Gov: sched with Build: sailfishf-userdebug 7.1.1 NMF26P 3525730 dev-keys - Gov: sched\n",
      "Single-Core\n"
     ]
    },
    {
     "data": {
      "text/html": [
       "<div>\n",
       "<table border=\"1\" class=\"dataframe\">\n",
       "  <thead>\n",
       "    <tr style=\"text-align: right;\">\n",
       "      <th></th>\n",
       "      <th>New score</th>\n",
       "      <th>Previous score</th>\n",
       "      <th>Delta</th>\n",
       "    </tr>\n",
       "  </thead>\n",
       "  <tbody>\n",
       "    <tr>\n",
       "      <th>AES</th>\n",
       "      <td>1176</td>\n",
       "      <td>777</td>\n",
       "      <td>51.35%</td>\n",
       "    </tr>\n",
       "    <tr>\n",
       "      <th>Camera</th>\n",
       "      <td>2031</td>\n",
       "      <td>2569</td>\n",
       "      <td>-20.94%</td>\n",
       "    </tr>\n",
       "    <tr>\n",
       "      <th>Canny</th>\n",
       "      <td>1663</td>\n",
       "      <td>2151</td>\n",
       "      <td>-22.69%</td>\n",
       "    </tr>\n",
       "    <tr>\n",
       "      <th>Dijkstra</th>\n",
       "      <td>2366</td>\n",
       "      <td>2095</td>\n",
       "      <td>12.94%</td>\n",
       "    </tr>\n",
       "    <tr>\n",
       "      <th>Face Detection</th>\n",
       "      <td>1759</td>\n",
       "      <td>2080</td>\n",
       "      <td>-15.43%</td>\n",
       "    </tr>\n",
       "    <tr>\n",
       "      <th>Gaussian Blur</th>\n",
       "      <td>1348</td>\n",
       "      <td>2312</td>\n",
       "      <td>-41.70%</td>\n",
       "    </tr>\n",
       "    <tr>\n",
       "      <th>HDR</th>\n",
       "      <td>2307</td>\n",
       "      <td>2808</td>\n",
       "      <td>-17.84%</td>\n",
       "    </tr>\n",
       "    <tr>\n",
       "      <th>HTML5 DOM</th>\n",
       "      <td>2436</td>\n",
       "      <td>292</td>\n",
       "      <td>734.25%</td>\n",
       "    </tr>\n",
       "    <tr>\n",
       "      <th>HTML5 Parse</th>\n",
       "      <td>1993</td>\n",
       "      <td>1578</td>\n",
       "      <td>26.30%</td>\n",
       "    </tr>\n",
       "    <tr>\n",
       "      <th>Histogram Equalization</th>\n",
       "      <td>1635</td>\n",
       "      <td>1477</td>\n",
       "      <td>10.70%</td>\n",
       "    </tr>\n",
       "    <tr>\n",
       "      <th>JPEG</th>\n",
       "      <td>2036</td>\n",
       "      <td>2485</td>\n",
       "      <td>-18.07%</td>\n",
       "    </tr>\n",
       "    <tr>\n",
       "      <th>LLVM</th>\n",
       "      <td>3896</td>\n",
       "      <td>1316</td>\n",
       "      <td>196.05%</td>\n",
       "    </tr>\n",
       "    <tr>\n",
       "      <th>LZMA</th>\n",
       "      <td>1970</td>\n",
       "      <td>1450</td>\n",
       "      <td>35.86%</td>\n",
       "    </tr>\n",
       "    <tr>\n",
       "      <th>Lua</th>\n",
       "      <td>1719</td>\n",
       "      <td>1245</td>\n",
       "      <td>38.07%</td>\n",
       "    </tr>\n",
       "    <tr>\n",
       "      <th>Memory Bandwidth</th>\n",
       "      <td>3120</td>\n",
       "      <td>2371</td>\n",
       "      <td>31.59%</td>\n",
       "    </tr>\n",
       "    <tr>\n",
       "      <th>Memory Copy</th>\n",
       "      <td>1612</td>\n",
       "      <td>2622</td>\n",
       "      <td>-38.52%</td>\n",
       "    </tr>\n",
       "    <tr>\n",
       "      <th>Memory Latency</th>\n",
       "      <td>2950</td>\n",
       "      <td>2828</td>\n",
       "      <td>4.31%</td>\n",
       "    </tr>\n",
       "    <tr>\n",
       "      <th>N-Body Physics</th>\n",
       "      <td>1119</td>\n",
       "      <td>1360</td>\n",
       "      <td>-17.72%</td>\n",
       "    </tr>\n",
       "    <tr>\n",
       "      <th>PDF Rendering</th>\n",
       "      <td>1836</td>\n",
       "      <td>2129</td>\n",
       "      <td>-13.76%</td>\n",
       "    </tr>\n",
       "    <tr>\n",
       "      <th>Ray Tracing</th>\n",
       "      <td>1523</td>\n",
       "      <td>1854</td>\n",
       "      <td>-17.85%</td>\n",
       "    </tr>\n",
       "    <tr>\n",
       "      <th>Rigid Body Physics</th>\n",
       "      <td>2017</td>\n",
       "      <td>2139</td>\n",
       "      <td>-5.70%</td>\n",
       "    </tr>\n",
       "    <tr>\n",
       "      <th>SFFT</th>\n",
       "      <td>1145</td>\n",
       "      <td>1088</td>\n",
       "      <td>5.24%</td>\n",
       "    </tr>\n",
       "    <tr>\n",
       "      <th>SGEMM</th>\n",
       "      <td>500</td>\n",
       "      <td>632</td>\n",
       "      <td>-20.89%</td>\n",
       "    </tr>\n",
       "    <tr>\n",
       "      <th>SQLite</th>\n",
       "      <td>1899</td>\n",
       "      <td>1180</td>\n",
       "      <td>60.93%</td>\n",
       "    </tr>\n",
       "    <tr>\n",
       "      <th>Speech Recognition</th>\n",
       "      <td>1473</td>\n",
       "      <td>1232</td>\n",
       "      <td>19.56%</td>\n",
       "    </tr>\n",
       "  </tbody>\n",
       "</table>\n",
       "</div>"
      ],
      "text/plain": [
       "                        New score  Previous score    Delta\n",
       "AES                          1176             777   51.35%\n",
       "Camera                       2031            2569  -20.94%\n",
       "Canny                        1663            2151  -22.69%\n",
       "Dijkstra                     2366            2095   12.94%\n",
       "Face Detection               1759            2080  -15.43%\n",
       "Gaussian Blur                1348            2312  -41.70%\n",
       "HDR                          2307            2808  -17.84%\n",
       "HTML5 DOM                    2436             292  734.25%\n",
       "HTML5 Parse                  1993            1578   26.30%\n",
       "Histogram Equalization       1635            1477   10.70%\n",
       "JPEG                         2036            2485  -18.07%\n",
       "LLVM                         3896            1316  196.05%\n",
       "LZMA                         1970            1450   35.86%\n",
       "Lua                          1719            1245   38.07%\n",
       "Memory Bandwidth             3120            2371   31.59%\n",
       "Memory Copy                  1612            2622  -38.52%\n",
       "Memory Latency               2950            2828    4.31%\n",
       "N-Body Physics               1119            1360  -17.72%\n",
       "PDF Rendering                1836            2129  -13.76%\n",
       "Ray Tracing                  1523            1854  -17.85%\n",
       "Rigid Body Physics           2017            2139   -5.70%\n",
       "SFFT                         1145            1088    5.24%\n",
       "SGEMM                         500             632  -20.89%\n",
       "SQLite                       1899            1180   60.93%\n",
       "Speech Recognition           1473            1232   19.56%"
      ]
     },
     "metadata": {},
     "output_type": "display_data"
    },
    {
     "name": "stdout",
     "output_type": "stream",
     "text": [
      "Multi-Core\n"
     ]
    },
    {
     "data": {
      "text/html": [
       "<div>\n",
       "<table border=\"1\" class=\"dataframe\">\n",
       "  <thead>\n",
       "    <tr style=\"text-align: right;\">\n",
       "      <th></th>\n",
       "      <th>New score</th>\n",
       "      <th>Previous score</th>\n",
       "      <th>Delta</th>\n",
       "    </tr>\n",
       "  </thead>\n",
       "  <tbody>\n",
       "    <tr>\n",
       "      <th>AES</th>\n",
       "      <td>1655</td>\n",
       "      <td>2035</td>\n",
       "      <td>-18.67%</td>\n",
       "    </tr>\n",
       "    <tr>\n",
       "      <th>Camera</th>\n",
       "      <td>7240</td>\n",
       "      <td>7115</td>\n",
       "      <td>1.76%</td>\n",
       "    </tr>\n",
       "    <tr>\n",
       "      <th>Canny</th>\n",
       "      <td>6246</td>\n",
       "      <td>6722</td>\n",
       "      <td>-7.08%</td>\n",
       "    </tr>\n",
       "    <tr>\n",
       "      <th>Dijkstra</th>\n",
       "      <td>8229</td>\n",
       "      <td>4906</td>\n",
       "      <td>67.73%</td>\n",
       "    </tr>\n",
       "    <tr>\n",
       "      <th>Face Detection</th>\n",
       "      <td>6120</td>\n",
       "      <td>5347</td>\n",
       "      <td>14.46%</td>\n",
       "    </tr>\n",
       "    <tr>\n",
       "      <th>Gaussian Blur</th>\n",
       "      <td>4010</td>\n",
       "      <td>5730</td>\n",
       "      <td>-30.02%</td>\n",
       "    </tr>\n",
       "    <tr>\n",
       "      <th>HDR</th>\n",
       "      <td>2644</td>\n",
       "      <td>7351</td>\n",
       "      <td>-64.03%</td>\n",
       "    </tr>\n",
       "    <tr>\n",
       "      <th>HTML5 DOM</th>\n",
       "      <td>2836</td>\n",
       "      <td>1419</td>\n",
       "      <td>99.86%</td>\n",
       "    </tr>\n",
       "    <tr>\n",
       "      <th>HTML5 Parse</th>\n",
       "      <td>2304</td>\n",
       "      <td>4109</td>\n",
       "      <td>-43.93%</td>\n",
       "    </tr>\n",
       "    <tr>\n",
       "      <th>Histogram Equalization</th>\n",
       "      <td>2570</td>\n",
       "      <td>4607</td>\n",
       "      <td>-44.22%</td>\n",
       "    </tr>\n",
       "    <tr>\n",
       "      <th>JPEG</th>\n",
       "      <td>7834</td>\n",
       "      <td>7193</td>\n",
       "      <td>8.91%</td>\n",
       "    </tr>\n",
       "    <tr>\n",
       "      <th>LLVM</th>\n",
       "      <td>9457</td>\n",
       "      <td>4184</td>\n",
       "      <td>126.03%</td>\n",
       "    </tr>\n",
       "    <tr>\n",
       "      <th>LZMA</th>\n",
       "      <td>6270</td>\n",
       "      <td>4287</td>\n",
       "      <td>46.26%</td>\n",
       "    </tr>\n",
       "    <tr>\n",
       "      <th>Lua</th>\n",
       "      <td>2975</td>\n",
       "      <td>3473</td>\n",
       "      <td>-14.34%</td>\n",
       "    </tr>\n",
       "    <tr>\n",
       "      <th>Memory Bandwidth</th>\n",
       "      <td>3342</td>\n",
       "      <td>3368</td>\n",
       "      <td>-0.77%</td>\n",
       "    </tr>\n",
       "    <tr>\n",
       "      <th>Memory Copy</th>\n",
       "      <td>2664</td>\n",
       "      <td>3806</td>\n",
       "      <td>-30.01%</td>\n",
       "    </tr>\n",
       "    <tr>\n",
       "      <th>Memory Latency</th>\n",
       "      <td>2933</td>\n",
       "      <td>2835</td>\n",
       "      <td>3.46%</td>\n",
       "    </tr>\n",
       "    <tr>\n",
       "      <th>N-Body Physics</th>\n",
       "      <td>1286</td>\n",
       "      <td>3689</td>\n",
       "      <td>-65.14%</td>\n",
       "    </tr>\n",
       "    <tr>\n",
       "      <th>PDF Rendering</th>\n",
       "      <td>6453</td>\n",
       "      <td>5501</td>\n",
       "      <td>17.31%</td>\n",
       "    </tr>\n",
       "    <tr>\n",
       "      <th>Ray Tracing</th>\n",
       "      <td>1391</td>\n",
       "      <td>4825</td>\n",
       "      <td>-71.17%</td>\n",
       "    </tr>\n",
       "    <tr>\n",
       "      <th>Rigid Body Physics</th>\n",
       "      <td>6976</td>\n",
       "      <td>4820</td>\n",
       "      <td>44.73%</td>\n",
       "    </tr>\n",
       "    <tr>\n",
       "      <th>SFFT</th>\n",
       "      <td>1507</td>\n",
       "      <td>3129</td>\n",
       "      <td>-51.84%</td>\n",
       "    </tr>\n",
       "    <tr>\n",
       "      <th>SGEMM</th>\n",
       "      <td>1555</td>\n",
       "      <td>1614</td>\n",
       "      <td>-3.66%</td>\n",
       "    </tr>\n",
       "    <tr>\n",
       "      <th>SQLite</th>\n",
       "      <td>1859</td>\n",
       "      <td>3302</td>\n",
       "      <td>-43.70%</td>\n",
       "    </tr>\n",
       "    <tr>\n",
       "      <th>Speech Recognition</th>\n",
       "      <td>4530</td>\n",
       "      <td>3545</td>\n",
       "      <td>27.79%</td>\n",
       "    </tr>\n",
       "  </tbody>\n",
       "</table>\n",
       "</div>"
      ],
      "text/plain": [
       "                        New score  Previous score    Delta\n",
       "AES                          1655            2035  -18.67%\n",
       "Camera                       7240            7115    1.76%\n",
       "Canny                        6246            6722   -7.08%\n",
       "Dijkstra                     8229            4906   67.73%\n",
       "Face Detection               6120            5347   14.46%\n",
       "Gaussian Blur                4010            5730  -30.02%\n",
       "HDR                          2644            7351  -64.03%\n",
       "HTML5 DOM                    2836            1419   99.86%\n",
       "HTML5 Parse                  2304            4109  -43.93%\n",
       "Histogram Equalization       2570            4607  -44.22%\n",
       "JPEG                         7834            7193    8.91%\n",
       "LLVM                         9457            4184  126.03%\n",
       "LZMA                         6270            4287   46.26%\n",
       "Lua                          2975            3473  -14.34%\n",
       "Memory Bandwidth             3342            3368   -0.77%\n",
       "Memory Copy                  2664            3806  -30.01%\n",
       "Memory Latency               2933            2835    3.46%\n",
       "N-Body Physics               1286            3689  -65.14%\n",
       "PDF Rendering                6453            5501   17.31%\n",
       "Ray Tracing                  1391            4825  -71.17%\n",
       "Rigid Body Physics           6976            4820   44.73%\n",
       "SFFT                         1507            3129  -51.84%\n",
       "SGEMM                        1555            1614   -3.66%\n",
       "SQLite                       1859            3302  -43.70%\n",
       "Speech Recognition           4530            3545   27.79%"
      ]
     },
     "metadata": {},
     "output_type": "display_data"
    }
   ],
   "source": [
    "for f in os.listdir(te.res_dir):\n",
    "    if f.endswith(\".gb4\"):\n",
    "        geekbench = get_geekbench(te.res_dir + \"/\" + f)\n",
    "        gdf = get_global_results(geekbench)\n",
    "        wdf = get_workloads_results(geekbench)\n",
    "\n",
    "        print \"---- Global benchmark results ----\"\n",
    "        if \"browser\" in geekbench:\n",
    "            print \"Uploaded results available here : \" + geekbench[\"browser\"][\"url\"]\n",
    "        #display(gdf)\n",
    "        print \"---- Detailled benchmark results ----\"\n",
    "        #display(wdf)\n",
    "        \n",
    "        compare_results(geekbench)\n",
    "        \n",
    "        #multi = wdf[\"Multi-Core\"][\"score\"]\n",
    "        #single = wdf[\"Single-Core\"][\"score\"]\n",
    "\n",
    "        #workloads = [item[0] for item in multi.iteritems()]\n",
    "        #for c in compare:\n",
    "        #    print \"---- Comparing with {} ----\".format(c[0])\n",
    "        #    for workload in workloads:\n",
    "        #        original_score = c[1][\"Multi-Core\"][\"score\"][workload]\n",
    "        #        delta = (multi[workload]*1.0 - original_score) / original_score\n",
    "        #        print \"{} -> {:.4f} % better results\".format(workload, delta * 100)"
   ]
  },
  {
   "cell_type": "code",
   "execution_count": null,
   "metadata": {
    "collapsed": true
   },
   "outputs": [],
   "source": []
  }
 ],
 "metadata": {
  "kernelspec": {
   "display_name": "Python 2",
   "language": "python",
   "name": "python2"
  },
  "language_info": {
   "codemirror_mode": {
    "name": "ipython",
    "version": 2
   },
   "file_extension": ".py",
   "mimetype": "text/x-python",
   "name": "python",
   "nbconvert_exporter": "python",
   "pygments_lexer": "ipython2",
   "version": "2.7.6"
  },
  "toc": {
   "toc_cell": false,
   "toc_number_sections": true,
   "toc_threshold": 6,
   "toc_window_display": false
  }
 },
 "nbformat": 4,
 "nbformat_minor": 0
}
