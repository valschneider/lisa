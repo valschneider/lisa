{
 "cells": [
  {
   "cell_type": "markdown",
   "metadata": {},
   "source": [
    "# Kernel Functions Profiling"
   ]
  },
  {
   "cell_type": "markdown",
   "metadata": {},
   "source": [
    "This notebook is there to show how to do some simple function profiling using LISA.\n",
    "\n",
    "We'll be using the Ftrace function profiler (See \"Function profiling\" in https://lwn.net/Articles/370423/) for that, and will present the relevant Python APIs from Devlib & LISA that make it easier to use."
   ]
  },
  {
   "cell_type": "code",
   "execution_count": null,
   "metadata": {},
   "outputs": [],
   "source": [
    "import logging\n",
    "from lisa.utils import setup_logging\n",
    "setup_logging()"
   ]
  },
  {
   "cell_type": "code",
   "execution_count": null,
   "metadata": {},
   "outputs": [],
   "source": [
    "import os\n",
    "from lisa.target import Target, TargetConf"
   ]
  },
  {
   "cell_type": "markdown",
   "metadata": {},
   "source": [
    "## Target configuration"
   ]
  },
  {
   "cell_type": "markdown",
   "metadata": {},
   "source": [
    "The only target requirement here is to have enough Ftrace goodies enabled (look at the requirements for **CONFIG_FUNCTION_PROFILER**)"
   ]
  },
  {
   "cell_type": "code",
   "execution_count": null,
   "metadata": {},
   "outputs": [],
   "source": [
    "target = Target(\n",
    "    kind='linux',\n",
    "    name='myhikey960',\n",
    "    host='192.168.0.1',\n",
    "    username='root',\n",
    "    password='root',\n",
    ")"
   ]
  },
  {
   "cell_type": "markdown",
   "metadata": {},
   "source": [
    "## Experiment setup"
   ]
  },
  {
   "cell_type": "markdown",
   "metadata": {},
   "source": [
    "We can run whatever we want here, let's just build a simple ((1 20% task) x NR_CPUS) workload"
   ]
  },
  {
   "cell_type": "code",
   "execution_count": null,
   "metadata": {},
   "outputs": [],
   "source": [
    "from lisa.wlgen.rta import RTA, Periodic"
   ]
  },
  {
   "cell_type": "code",
   "execution_count": null,
   "metadata": {},
   "outputs": [],
   "source": [
    "rtapp_profile = {}\n",
    "\n",
    "for cpu in range(target.number_of_cpus):\n",
    "    rtapp_profile[\"task{}\".format(cpu)] = Periodic(duty_cycle_pct=20)"
   ]
  },
  {
   "cell_type": "code",
   "execution_count": null,
   "metadata": {},
   "outputs": [],
   "source": [
    "wload = RTA.by_profile(target, \"profiling_wload\", rtapp_profile)"
   ]
  },
  {
   "cell_type": "markdown",
   "metadata": {},
   "source": [
    "Now, let's define the functions we want to do some profiling on. Do keep in mind all functions might not be profilable - that can happen if they are inline."
   ]
  },
  {
   "cell_type": "code",
   "execution_count": null,
   "metadata": {},
   "outputs": [],
   "source": [
    "functions = [\n",
    "    \"scheduler_tick\",\n",
    "    \"run_rebalance_domains\"\n",
    "]"
   ]
  },
  {
   "cell_type": "markdown",
   "metadata": {},
   "source": [
    "We're using an FtraceCollector so might as well record some basic events to get a meaningful trace"
   ]
  },
  {
   "cell_type": "code",
   "execution_count": null,
   "metadata": {},
   "outputs": [],
   "source": [
    "events = [\n",
    "    \"sched_switch\",\n",
    "    \"sched_wakeup\",\n",
    "    \"sched_wakeup_new\"\n",
    "]"
   ]
  },
  {
   "cell_type": "markdown",
   "metadata": {},
   "source": [
    "## Running the experiment"
   ]
  },
  {
   "cell_type": "code",
   "execution_count": null,
   "metadata": {},
   "outputs": [],
   "source": [
    "from lisa.trace import FtraceCollector"
   ]
  },
  {
   "cell_type": "code",
   "execution_count": null,
   "metadata": {},
   "outputs": [],
   "source": [
    "ftrace_coll = FtraceCollector(target, functions=functions, buffer_size=10240)\n",
    "trace_path = os.path.join(wload.res_dir, \"trace.dat\")\n",
    "with ftrace_coll:\n",
    "    wload.run()\n",
    "ftrace_coll.get_trace(trace_path)\n",
    "\n",
    "# Save the profiling stats\n",
    "ftrace.get_stats(os.path.join(wload.res_dir, \"stats.json\"))"
   ]
  },
  {
   "cell_type": "code",
   "execution_count": null,
   "metadata": {},
   "outputs": [],
   "source": [
    "!tree {wload.res_dir}"
   ]
  },
  {
   "cell_type": "markdown",
   "metadata": {},
   "source": [
    "## Loading the trace"
   ]
  },
  {
   "cell_type": "code",
   "execution_count": null,
   "metadata": {},
   "outputs": [],
   "source": [
    "from lisa.trace import Trace"
   ]
  },
  {
   "cell_type": "code",
   "execution_count": null,
   "metadata": {},
   "outputs": [],
   "source": [
    "trace = Trace(trace_path, target.plat_info, events=events)"
   ]
  },
  {
   "cell_type": "markdown",
   "metadata": {},
   "source": [
    "We can have a look at the trace of the workload we just ran"
   ]
  },
  {
   "cell_type": "code",
   "execution_count": null,
   "metadata": {},
   "outputs": [],
   "source": [
    "from trappy.plotter import plot_trace"
   ]
  },
  {
   "cell_type": "code",
   "execution_count": null,
   "metadata": {},
   "outputs": [],
   "source": [
    "plot_trace(trace.ftrace)"
   ]
  },
  {
   "cell_type": "markdown",
   "metadata": {},
   "source": [
    "## Loading the function profiling"
   ]
  },
  {
   "cell_type": "markdown",
   "metadata": {},
   "source": [
    "The profiling stats are JSON so let's load it up into a dict"
   ]
  },
  {
   "cell_type": "code",
   "execution_count": null,
   "metadata": {},
   "outputs": [],
   "source": [
    "import json"
   ]
  },
  {
   "cell_type": "code",
   "execution_count": null,
   "metadata": {},
   "outputs": [],
   "source": [
    "stats_path = os.path.join(wload.res_dir, \"stats.json\")\n",
    "\n",
    "with open(stats_path, \"r\") as fh:\n",
    "    # That ';' is just there to prevent Jupyter from dumping the dict in stdout\n",
    "    stats = json.load(fh);"
   ]
  },
  {
   "cell_type": "markdown",
   "metadata": {},
   "source": [
    "The data in the file is arranged like so:\n",
    "\n",
    "- For each CPU\n",
    "    - For each function\n",
    "       - time (µs)\n",
    "       - hits (#)\n",
    "       - s_2, AKA variance - apply sqrt() to get standard deviation\n",
    "       - avg (µs)\n",
    "       \n",
    "To make it a bit simpler to manipulate, we're going to turn this data into a pandas DataFrame."
   ]
  },
  {
   "cell_type": "code",
   "execution_count": null,
   "metadata": {},
   "outputs": [],
   "source": [
    "import pandas as pd\n",
    "\n",
    "def stats_to_df(stats_dict):\n",
    "    \"\"\"\n",
    "    Turn Ftrace function profiling stats into a pandas DataFtrame\n",
    "    \n",
    "    :param stats_dict: The stats dictionnary generated by FtraceCollector\n",
    "    :type stats_dict: dict\n",
    "    \"\"\"\n",
    "    data = []\n",
    "    index = []\n",
    "    \n",
    "    for cpu, functions in stats_dict.items():\n",
    "        index.append(int(cpu))\n",
    "        columns = []\n",
    "        line = []\n",
    "        \n",
    "        for function, stats in functions.items():\n",
    "            \n",
    "            for name, stat in stats.items():\n",
    "                columns.append((function, name))\n",
    "                line.append(stat)\n",
    "\n",
    "        data.append(line)\n",
    "        \n",
    "    df = pd.DataFrame(data, index=index, columns=columns)\n",
    "    df.columns = pd.MultiIndex.from_tuples(df.columns, names=[\"function\", \"cpu\"])\n",
    "    df = df.sort_index()\n",
    "    return df"
   ]
  },
  {
   "cell_type": "code",
   "execution_count": null,
   "metadata": {},
   "outputs": [],
   "source": [
    "df = stats_to_df(stats)"
   ]
  },
  {
   "cell_type": "markdown",
   "metadata": {},
   "source": [
    "Here's how the Dataframe looks like:"
   ]
  },
  {
   "cell_type": "code",
   "execution_count": null,
   "metadata": {},
   "outputs": [],
   "source": [
    "df"
   ]
  },
  {
   "cell_type": "markdown",
   "metadata": {},
   "source": [
    "We can easily have a look at a specific function:"
   ]
  },
  {
   "cell_type": "code",
   "execution_count": null,
   "metadata": {},
   "outputs": [],
   "source": [
    "df.run_rebalance_domains"
   ]
  },
  {
   "cell_type": "markdown",
   "metadata": {},
   "source": [
    "It's also easy to get overall stats for one function. For instance, if we want the total number of hits for a function (summing up the number of hits over all CPUs), that can be done like so:"
   ]
  },
  {
   "cell_type": "code",
   "execution_count": null,
   "metadata": {},
   "outputs": [],
   "source": [
    "df.run_rebalance_domains.hits.sum()"
   ]
  },
  {
   "cell_type": "markdown",
   "metadata": {},
   "source": [
    "You can also get stats recorded on a single CPU like so:"
   ]
  },
  {
   "cell_type": "code",
   "execution_count": null,
   "metadata": {},
   "outputs": [],
   "source": [
    "df.run_rebalance_domains.loc[2]"
   ]
  },
  {
   "cell_type": "markdown",
   "metadata": {},
   "source": [
    "## Visual profiling"
   ]
  },
  {
   "cell_type": "markdown",
   "metadata": {},
   "source": [
    "Now that we have all of the relevant data in Dataframe format, it's very easy to make plots out of it"
   ]
  },
  {
   "cell_type": "code",
   "execution_count": null,
   "metadata": {},
   "outputs": [],
   "source": [
    "import matplotlib.pyplot as plt\n",
    "import numpy as np"
   ]
  },
  {
   "cell_type": "code",
   "execution_count": null,
   "metadata": {},
   "outputs": [],
   "source": [
    "def plot_hits(df, function):\n",
    "    fig, ax = plt.subplots(figsize=(16, 5))\n",
    "    \n",
    "    df[function].hits.plot.bar(ax=ax)    \n",
    "    ax.set_title(\"Per-CPU hits of \\\"{}\\\"\".format(function))\n",
    "    ax.set_xlabel(\"CPU\")\n",
    "    ax.set_ylabel(\"# of hits\")\n",
    "    ax.grid(True)"
   ]
  },
  {
   "cell_type": "code",
   "execution_count": null,
   "metadata": {},
   "outputs": [],
   "source": [
    "def plot_time_avg(df, function):\n",
    "    fig, ax = plt.subplots(figsize=(16, 5))\n",
    "    \n",
    "    # Let's compute the standard deviation to plot error bars\n",
    "    stddev = df[function].s_2.apply(np.sqrt)\n",
    "    \n",
    "    df[function].avg.plot.bar(ax=ax, yerr=stddev, capsize=10)    \n",
    "    ax.set_title(\"Per-CPU average time of \\\"{}\\\"\".format(function))\n",
    "    ax.set_xlabel(\"CPU\")\n",
    "    ax.set_ylabel(\"Average time (µs)\")\n",
    "    ax.grid(True)"
   ]
  },
  {
   "cell_type": "code",
   "execution_count": null,
   "metadata": {},
   "outputs": [],
   "source": [
    "for function in functions:\n",
    "    plot_hits(df, function)\n",
    "    plot_time_avg(df, function)"
   ]
  }
 ],
 "metadata": {
  "kernelspec": {
   "display_name": "Python 3",
   "language": "python",
   "name": "python3"
  },
  "language_info": {
   "codemirror_mode": {
    "name": "ipython",
    "version": 3
   },
   "file_extension": ".py",
   "mimetype": "text/x-python",
   "name": "python",
   "nbconvert_exporter": "python",
   "pygments_lexer": "ipython3",
   "version": "3.7.2"
  }
 },
 "nbformat": 4,
 "nbformat_minor": 2
}
